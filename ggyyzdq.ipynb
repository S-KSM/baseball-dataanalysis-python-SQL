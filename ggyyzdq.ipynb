{
 "cells": [
  {
   "cell_type": "markdown",
   "metadata": {},
   "source": [
    "## Importing the modules"
   ]
  },
  {
   "cell_type": "code",
   "execution_count": 55,
   "metadata": {
    "collapsed": false
   },
   "outputs": [],
   "source": [
    "import pandas as pd\n",
    "import matplotlib.pyplot as plt\n",
    "import numpy as np\n",
    "import seaborn as sns\n",
    "from pandasql import *\n",
    "from sqlalchemy import create_engine\n",
    "plt.style.use(\"ggplot\")\n",
    "import timeit\n",
    "\n",
    "%matplotlib inline"
   ]
  },
  {
   "cell_type": "markdown",
   "metadata": {},
   "source": [
    "# constants and variable"
   ]
  },
  {
   "cell_type": "code",
   "execution_count": 2,
   "metadata": {
    "collapsed": false
   },
   "outputs": [],
   "source": [
    "# Create your engine.\n",
    "engine = create_engine('sqlite:///:memory:')"
   ]
  },
  {
   "cell_type": "markdown",
   "metadata": {},
   "source": [
    "# Set up datasets\n",
    "\n",
    "First, the data is read into a dataframe. Next, we transform it into a sql table. Finally, the data is read into a sql data-table."
   ]
  },
  {
   "cell_type": "code",
   "execution_count": 3,
   "metadata": {
    "collapsed": false
   },
   "outputs": [],
   "source": [
    "df1 = pd.read_csv(\"./data/Master.csv\",sep=\",\")\n",
    "df1.to_sql(\"Master\",engine)\n",
    "\n",
    "df2 = pd.read_csv(\"./data/Salaries.csv\",sep=\",\")\n",
    "df2.to_sql(\"Salaries\",engine)\n",
    "\n",
    "df3 = pd.read_csv(\"./data/Teams.csv\",sep=\",\")\n",
    "df3.to_sql(\"Teams\",engine)\n"
   ]
  },
  {
   "cell_type": "code",
   "execution_count": 4,
   "metadata": {
    "collapsed": false
   },
   "outputs": [],
   "source": [
    "with engine.connect() as conn, conn.begin():\n",
    "    df_Master = pd.read_sql_table('Master', conn)\n",
    "    df_Salaries= pd.read_sql_table('Salaries',conn)\n",
    "    df_Teams = pd.read_sql_table('Teams',conn)"
   ]
  },
  {
   "cell_type": "markdown",
   "metadata": {},
   "source": [
    "## Joining the Salary and Master dataframes"
   ]
  },
  {
   "cell_type": "code",
   "execution_count": 8,
   "metadata": {
    "collapsed": false
   },
   "outputs": [],
   "source": [
    "q = \"\"\"\n",
    "    SELECT\n",
    "        m.playerID\n",
    "        , s.salary\n",
    "        , m.nameFirst\n",
    "        , m.nameLast\n",
    "        \n",
    "    FROM\n",
    "        df_Master m\n",
    "    INNER JOIN\n",
    "        df_Salaries s\n",
    "            on m.playerID = s.playerID\n",
    "    ORDER BY\n",
    "        s.playerID\n",
    "    ;\n",
    "    \"\"\"\n",
    "\n",
    "joined = sqldf(q,globals())\n"
   ]
  },
  {
   "cell_type": "code",
   "execution_count": 9,
   "metadata": {
    "collapsed": false
   },
   "outputs": [],
   "source": [
    "joined[\"cummulativeSalary\"] = joined.groupby(\"playerID\").cumsum()"
   ]
  },
  {
   "cell_type": "code",
   "execution_count": 12,
   "metadata": {
    "collapsed": false
   },
   "outputs": [
    {
     "data": {
      "text/html": [
       "<div>\n",
       "<table border=\"1\" class=\"dataframe\">\n",
       "  <thead>\n",
       "    <tr style=\"text-align: right;\">\n",
       "      <th></th>\n",
       "      <th>playerID</th>\n",
       "      <th>salary</th>\n",
       "      <th>nameFirst</th>\n",
       "      <th>nameLast</th>\n",
       "      <th>cummulativeSalary</th>\n",
       "    </tr>\n",
       "  </thead>\n",
       "  <tbody>\n",
       "    <tr>\n",
       "      <th>0</th>\n",
       "      <td>aardsda01</td>\n",
       "      <td>300000</td>\n",
       "      <td>David</td>\n",
       "      <td>Aardsma</td>\n",
       "      <td>300000</td>\n",
       "    </tr>\n",
       "    <tr>\n",
       "      <th>1</th>\n",
       "      <td>aardsda01</td>\n",
       "      <td>387500</td>\n",
       "      <td>David</td>\n",
       "      <td>Aardsma</td>\n",
       "      <td>687500</td>\n",
       "    </tr>\n",
       "    <tr>\n",
       "      <th>2</th>\n",
       "      <td>aardsda01</td>\n",
       "      <td>403250</td>\n",
       "      <td>David</td>\n",
       "      <td>Aardsma</td>\n",
       "      <td>1090750</td>\n",
       "    </tr>\n",
       "    <tr>\n",
       "      <th>3</th>\n",
       "      <td>aardsda01</td>\n",
       "      <td>419000</td>\n",
       "      <td>David</td>\n",
       "      <td>Aardsma</td>\n",
       "      <td>1509750</td>\n",
       "    </tr>\n",
       "    <tr>\n",
       "      <th>4</th>\n",
       "      <td>aardsda01</td>\n",
       "      <td>500000</td>\n",
       "      <td>David</td>\n",
       "      <td>Aardsma</td>\n",
       "      <td>2009750</td>\n",
       "    </tr>\n",
       "  </tbody>\n",
       "</table>\n",
       "</div>"
      ],
      "text/plain": [
       "    playerID  salary nameFirst nameLast  cummulativeSalary\n",
       "0  aardsda01  300000     David  Aardsma             300000\n",
       "1  aardsda01  387500     David  Aardsma             687500\n",
       "2  aardsda01  403250     David  Aardsma            1090750\n",
       "3  aardsda01  419000     David  Aardsma            1509750\n",
       "4  aardsda01  500000     David  Aardsma            2009750"
      ]
     },
     "execution_count": 12,
     "metadata": {},
     "output_type": "execute_result"
    }
   ],
   "source": [
    "joined.head()"
   ]
  },
  {
   "cell_type": "markdown",
   "metadata": {},
   "source": [
    "## Ron Gant's Salary"
   ]
  },
  {
   "cell_type": "code",
   "execution_count": 23,
   "metadata": {
    "collapsed": false
   },
   "outputs": [
    {
     "data": {
      "text/html": [
       "<div>\n",
       "<table border=\"1\" class=\"dataframe\">\n",
       "  <thead>\n",
       "    <tr style=\"text-align: right;\">\n",
       "      <th></th>\n",
       "      <th>salary</th>\n",
       "      <th>cummulativeSalary</th>\n",
       "    </tr>\n",
       "  </thead>\n",
       "  <tbody>\n",
       "    <tr>\n",
       "      <th>0</th>\n",
       "      <td>65000</td>\n",
       "      <td>65000</td>\n",
       "    </tr>\n",
       "    <tr>\n",
       "      <th>1</th>\n",
       "      <td>109000</td>\n",
       "      <td>174000</td>\n",
       "    </tr>\n",
       "    <tr>\n",
       "      <th>2</th>\n",
       "      <td>125000</td>\n",
       "      <td>299000</td>\n",
       "    </tr>\n",
       "    <tr>\n",
       "      <th>3</th>\n",
       "      <td>350000</td>\n",
       "      <td>649000</td>\n",
       "    </tr>\n",
       "    <tr>\n",
       "      <th>4</th>\n",
       "      <td>500000</td>\n",
       "      <td>1149000</td>\n",
       "    </tr>\n",
       "    <tr>\n",
       "      <th>5</th>\n",
       "      <td>1195000</td>\n",
       "      <td>2344000</td>\n",
       "    </tr>\n",
       "    <tr>\n",
       "      <th>6</th>\n",
       "      <td>1750000</td>\n",
       "      <td>4094000</td>\n",
       "    </tr>\n",
       "    <tr>\n",
       "      <th>7</th>\n",
       "      <td>2700000</td>\n",
       "      <td>6794000</td>\n",
       "    </tr>\n",
       "    <tr>\n",
       "      <th>8</th>\n",
       "      <td>3633335</td>\n",
       "      <td>10427335</td>\n",
       "    </tr>\n",
       "    <tr>\n",
       "      <th>9</th>\n",
       "      <td>3700000</td>\n",
       "      <td>14127335</td>\n",
       "    </tr>\n",
       "    <tr>\n",
       "      <th>10</th>\n",
       "      <td>4000000</td>\n",
       "      <td>18127335</td>\n",
       "    </tr>\n",
       "    <tr>\n",
       "      <th>11</th>\n",
       "      <td>4500000</td>\n",
       "      <td>22627335</td>\n",
       "    </tr>\n",
       "    <tr>\n",
       "      <th>12</th>\n",
       "      <td>5066667</td>\n",
       "      <td>27694002</td>\n",
       "    </tr>\n",
       "    <tr>\n",
       "      <th>13</th>\n",
       "      <td>5500000</td>\n",
       "      <td>33194002</td>\n",
       "    </tr>\n",
       "    <tr>\n",
       "      <th>14</th>\n",
       "      <td>5500000</td>\n",
       "      <td>38694002</td>\n",
       "    </tr>\n",
       "    <tr>\n",
       "      <th>15</th>\n",
       "      <td>6000000</td>\n",
       "      <td>44694002</td>\n",
       "    </tr>\n",
       "  </tbody>\n",
       "</table>\n",
       "</div>"
      ],
      "text/plain": [
       "     salary  cummulativeSalary\n",
       "0     65000              65000\n",
       "1    109000             174000\n",
       "2    125000             299000\n",
       "3    350000             649000\n",
       "4    500000            1149000\n",
       "5   1195000            2344000\n",
       "6   1750000            4094000\n",
       "7   2700000            6794000\n",
       "8   3633335           10427335\n",
       "9   3700000           14127335\n",
       "10  4000000           18127335\n",
       "11  4500000           22627335\n",
       "12  5066667           27694002\n",
       "13  5500000           33194002\n",
       "14  5500000           38694002\n",
       "15  6000000           44694002"
      ]
     },
     "execution_count": 23,
     "metadata": {},
     "output_type": "execute_result"
    }
   ],
   "source": [
    "Ron_Gant_df = joined[(joined.nameFirst ==\"Ron\") & (joined.nameLast ==\"Gant\")][[\"salary\",\n",
    "                                                                               \"cummulativeSalary\"]].reset_index(drop= True)\n",
    "Ron_Gant_df"
   ]
  },
  {
   "cell_type": "markdown",
   "metadata": {},
   "source": [
    "## “Curtis Granderson” and “Reggie Sanders”"
   ]
  },
  {
   "cell_type": "code",
   "execution_count": 24,
   "metadata": {
    "collapsed": false
   },
   "outputs": [
    {
     "data": {
      "text/html": [
       "<div>\n",
       "<table border=\"1\" class=\"dataframe\">\n",
       "  <thead>\n",
       "    <tr style=\"text-align: right;\">\n",
       "      <th></th>\n",
       "      <th>salary</th>\n",
       "      <th>cummulativeSalary</th>\n",
       "    </tr>\n",
       "  </thead>\n",
       "  <tbody>\n",
       "    <tr>\n",
       "      <th>0</th>\n",
       "      <td>335000</td>\n",
       "      <td>335000</td>\n",
       "    </tr>\n",
       "    <tr>\n",
       "      <th>1</th>\n",
       "      <td>410000</td>\n",
       "      <td>745000</td>\n",
       "    </tr>\n",
       "    <tr>\n",
       "      <th>2</th>\n",
       "      <td>1000000</td>\n",
       "      <td>1745000</td>\n",
       "    </tr>\n",
       "    <tr>\n",
       "      <th>3</th>\n",
       "      <td>3500000</td>\n",
       "      <td>5245000</td>\n",
       "    </tr>\n",
       "    <tr>\n",
       "      <th>4</th>\n",
       "      <td>5500000</td>\n",
       "      <td>10745000</td>\n",
       "    </tr>\n",
       "    <tr>\n",
       "      <th>5</th>\n",
       "      <td>8250000</td>\n",
       "      <td>18995000</td>\n",
       "    </tr>\n",
       "    <tr>\n",
       "      <th>6</th>\n",
       "      <td>10000000</td>\n",
       "      <td>28995000</td>\n",
       "    </tr>\n",
       "    <tr>\n",
       "      <th>7</th>\n",
       "      <td>13000000</td>\n",
       "      <td>41995000</td>\n",
       "    </tr>\n",
       "    <tr>\n",
       "      <th>8</th>\n",
       "      <td>15000000</td>\n",
       "      <td>56995000</td>\n",
       "    </tr>\n",
       "    <tr>\n",
       "      <th>9</th>\n",
       "      <td>16000000</td>\n",
       "      <td>72995000</td>\n",
       "    </tr>\n",
       "  </tbody>\n",
       "</table>\n",
       "</div>"
      ],
      "text/plain": [
       "     salary  cummulativeSalary\n",
       "0    335000             335000\n",
       "1    410000             745000\n",
       "2   1000000            1745000\n",
       "3   3500000            5245000\n",
       "4   5500000           10745000\n",
       "5   8250000           18995000\n",
       "6  10000000           28995000\n",
       "7  13000000           41995000\n",
       "8  15000000           56995000\n",
       "9  16000000           72995000"
      ]
     },
     "execution_count": 24,
     "metadata": {},
     "output_type": "execute_result"
    }
   ],
   "source": [
    "Curtis_Granderson_df = joined[(joined.nameFirst == \"Curtis\") & (joined.nameLast == \"Granderson\")][[\"salary\",\n",
    "                                                                               \"cummulativeSalary\"]].reset_index(drop= True)\n",
    "Curtis_Granderson_df"
   ]
  },
  {
   "cell_type": "code",
   "execution_count": 25,
   "metadata": {
    "collapsed": false
   },
   "outputs": [
    {
     "data": {
      "text/html": [
       "<div>\n",
       "<table border=\"1\" class=\"dataframe\">\n",
       "  <thead>\n",
       "    <tr style=\"text-align: right;\">\n",
       "      <th></th>\n",
       "      <th>salary</th>\n",
       "      <th>cummulativeSalary</th>\n",
       "    </tr>\n",
       "  </thead>\n",
       "  <tbody>\n",
       "    <tr>\n",
       "      <th>0</th>\n",
       "      <td>109000</td>\n",
       "      <td>109000</td>\n",
       "    </tr>\n",
       "    <tr>\n",
       "      <th>1</th>\n",
       "      <td>275000</td>\n",
       "      <td>384000</td>\n",
       "    </tr>\n",
       "    <tr>\n",
       "      <th>2</th>\n",
       "      <td>925000</td>\n",
       "      <td>1309000</td>\n",
       "    </tr>\n",
       "    <tr>\n",
       "      <th>3</th>\n",
       "      <td>1000000</td>\n",
       "      <td>2309000</td>\n",
       "    </tr>\n",
       "    <tr>\n",
       "      <th>4</th>\n",
       "      <td>1500000</td>\n",
       "      <td>3809000</td>\n",
       "    </tr>\n",
       "    <tr>\n",
       "      <th>5</th>\n",
       "      <td>1750000</td>\n",
       "      <td>5559000</td>\n",
       "    </tr>\n",
       "    <tr>\n",
       "      <th>6</th>\n",
       "      <td>1975000</td>\n",
       "      <td>7534000</td>\n",
       "    </tr>\n",
       "    <tr>\n",
       "      <th>7</th>\n",
       "      <td>2000000</td>\n",
       "      <td>9534000</td>\n",
       "    </tr>\n",
       "    <tr>\n",
       "      <th>8</th>\n",
       "      <td>3575000</td>\n",
       "      <td>13109000</td>\n",
       "    </tr>\n",
       "    <tr>\n",
       "      <th>9</th>\n",
       "      <td>3700000</td>\n",
       "      <td>16809000</td>\n",
       "    </tr>\n",
       "    <tr>\n",
       "      <th>10</th>\n",
       "      <td>3700000</td>\n",
       "      <td>20509000</td>\n",
       "    </tr>\n",
       "    <tr>\n",
       "      <th>11</th>\n",
       "      <td>3700000</td>\n",
       "      <td>24209000</td>\n",
       "    </tr>\n",
       "    <tr>\n",
       "      <th>12</th>\n",
       "      <td>3700000</td>\n",
       "      <td>27909000</td>\n",
       "    </tr>\n",
       "    <tr>\n",
       "      <th>13</th>\n",
       "      <td>4000000</td>\n",
       "      <td>31909000</td>\n",
       "    </tr>\n",
       "    <tr>\n",
       "      <th>14</th>\n",
       "      <td>5000000</td>\n",
       "      <td>36909000</td>\n",
       "    </tr>\n",
       "    <tr>\n",
       "      <th>15</th>\n",
       "      <td>5000000</td>\n",
       "      <td>41909000</td>\n",
       "    </tr>\n",
       "  </tbody>\n",
       "</table>\n",
       "</div>"
      ],
      "text/plain": [
       "     salary  cummulativeSalary\n",
       "0    109000             109000\n",
       "1    275000             384000\n",
       "2    925000            1309000\n",
       "3   1000000            2309000\n",
       "4   1500000            3809000\n",
       "5   1750000            5559000\n",
       "6   1975000            7534000\n",
       "7   2000000            9534000\n",
       "8   3575000           13109000\n",
       "9   3700000           16809000\n",
       "10  3700000           20509000\n",
       "11  3700000           24209000\n",
       "12  3700000           27909000\n",
       "13  4000000           31909000\n",
       "14  5000000           36909000\n",
       "15  5000000           41909000"
      ]
     },
     "execution_count": 25,
     "metadata": {},
     "output_type": "execute_result"
    }
   ],
   "source": [
    "Reggie_Sanders_df = joined[(joined.nameFirst == \"Reggie\") & (joined.nameLast == \"Sanders\")][[\"salary\",\n",
    "                                                                               \"cummulativeSalary\"]].reset_index(drop= True)\n",
    "Reggie_Sanders_df"
   ]
  },
  {
   "cell_type": "markdown",
   "metadata": {},
   "source": [
    "# Cumulative Salaries"
   ]
  },
  {
   "cell_type": "code",
   "execution_count": 27,
   "metadata": {
    "collapsed": false
   },
   "outputs": [
    {
     "data": {
      "text/plain": [
       "<matplotlib.axes._subplots.AxesSubplot at 0x17ea36b40f0>"
      ]
     },
     "execution_count": 27,
     "metadata": {},
     "output_type": "execute_result"
    },
    {
     "data": {
      "image/png": "[encoded data removed]",
      "text/plain": [
       "<matplotlib.figure.Figure at 0x17ea4a69198>"
      ]
     },
     "metadata": {},
     "output_type": "display_data"
    }
   ],
   "source": [
    "Ron_Gant_df.cummulativeSalary.plot(title = \"Cummulative Salary of Ron Gant\")"
   ]
  },
  {
   "cell_type": "code",
   "execution_count": 28,
   "metadata": {
    "collapsed": false
   },
   "outputs": [
    {
     "data": {
      "text/plain": [
       "<matplotlib.axes._subplots.AxesSubplot at 0x17ea501d128>"
      ]
     },
     "execution_count": 28,
     "metadata": {},
     "output_type": "execute_result"
    },
    {
     "data": {
      "image/png": "[encoded data removed]",
      "text/plain": [
       "<matplotlib.figure.Figure at 0x17ea34eb9e8>"
      ]
     },
     "metadata": {},
     "output_type": "display_data"
    }
   ],
   "source": [
    "Curtis_Granderson_df.cummulativeSalary.plot(title = \"Cummulative Salary of Curtis_Granderson\")"
   ]
  },
  {
   "cell_type": "code",
   "execution_count": 29,
   "metadata": {
    "collapsed": false
   },
   "outputs": [
    {
     "data": {
      "text/plain": [
       "<matplotlib.axes._subplots.AxesSubplot at 0x17ea3609470>"
      ]
     },
     "execution_count": 29,
     "metadata": {},
     "output_type": "execute_result"
    },
    {
     "data": {
      "image/png": "[encoded data removed]",
      "text/plain": [
       "<matplotlib.figure.Figure at 0x17ea3612ef0>"
      ]
     },
     "metadata": {},
     "output_type": "display_data"
    }
   ],
   "source": [
    "Reggie_Sanders_df.cummulativeSalary.plot(title = \"Cummulative Salary of Reggie Sanders\")"
   ]
  },
  {
   "cell_type": "markdown",
   "metadata": {},
   "source": [
    "# New York Yankees with over 90 wins"
   ]
  },
  {
   "cell_type": "markdown",
   "metadata": {},
   "source": [
    "### Solution Based on SQL Query"
   ]
  },
  {
   "cell_type": "code",
   "execution_count": 60,
   "metadata": {
    "collapsed": false
   },
   "outputs": [
    {
     "name": "stdout",
     "output_type": "stream",
     "text": [
      "The number of times New York Yankees had over 90 wins =  57\n"
     ]
    }
   ],
   "source": [
    "#%%timeit\n",
    "q = \"\"\"\n",
    "    SELECT\n",
    "        t.W\n",
    "        , t.name\n",
    "\n",
    "    FROM\n",
    "        df_Teams t\n",
    "    WHERE\n",
    "        t.W > 90\n",
    "    AND\n",
    "        t.name == 'New York Yankees'\n",
    "\n",
    "    \"\"\"\n",
    "\n",
    "df_NYY_90_a = sqldf(q,globals())\n",
    "print(\"The number of times New York Yankees had over 90 wins = \",df_NYY_90.shape[0])"
   ]
  },
  {
   "cell_type": "markdown",
   "metadata": {},
   "source": [
    "### Solution Based on Pandas abilities"
   ]
  },
  {
   "cell_type": "code",
   "execution_count": 61,
   "metadata": {
    "collapsed": false
   },
   "outputs": [
    {
     "name": "stdout",
     "output_type": "stream",
     "text": [
      "The number of times New York Yankees had over 90 wins =  57\n"
     ]
    }
   ],
   "source": [
    "#%%timeit\n",
    "df_NYY_90_b1 = df_Teams[[\"W\",\"name\"]].query('W > 90 and name == \"New York Yankees\"') #pandas query\n",
    "print(\"The number of times New York Yankees had over 90 wins = \",df_NYY_90_b1.shape[0])"
   ]
  },
  {
   "cell_type": "code",
   "execution_count": 62,
   "metadata": {
    "collapsed": false
   },
   "outputs": [
    {
     "name": "stdout",
     "output_type": "stream",
     "text": [
      "The number of times New York Yankees had over 90 wins =  57\n"
     ]
    }
   ],
   "source": [
    "#%%timeit\n",
    "df_NYY_90_b2 = df_Teams.loc[(df_Teams.W > 90) & (df_Teams.name == 'New York Yankees')] # pandas subsetting\n",
    "print(\"The number of times New York Yankees had over 90 wins = \",df_NYY_90_b2.shape[0])"
   ]
  },
  {
   "cell_type": "markdown",
   "metadata": {},
   "source": [
    "Based on performance:\n",
    "The methods are ordered from the slowest to fastest.\n",
    "\n",
    "    sql= 218 ms\n",
    "    pandas.query = 7.92 ms\n",
    "    pandas subsetting = 1.55ms"
   ]
  },
  {
   "cell_type": "markdown",
   "metadata": {},
   "source": [
    "## Team with the highest attendence 2010"
   ]
  },
  {
   "cell_type": "code",
   "execution_count": 108,
   "metadata": {
    "collapsed": false
   },
   "outputs": [
    {
     "name": "stdout",
     "output_type": "stream",
     "text": [
      "Team with the highest attendence in 2010: 2642    New York Yankees\n",
      "Name: name, dtype: object\n"
     ]
    }
   ],
   "source": [
    "#%%timeit\n",
    "df_maxAttend = df_Teams[df_Teams[\"yearID\"] == 2010]\n",
    "print(\"Team with the highest attendence in 2010:\",\n",
    "      df_maxAttend[df_maxAttend[\"attendance\"] == df_maxAttend.attendance.max()].name)"
   ]
  },
  {
   "cell_type": "markdown",
   "metadata": {},
   "source": [
    "# Average Attendence for San Francisco Giants in 1990s"
   ]
  },
  {
   "cell_type": "code",
   "execution_count": 100,
   "metadata": {
    "collapsed": false
   },
   "outputs": [
    {
     "name": "stdout",
     "output_type": "stream",
     "text": [
      "Average Attendence for SFG in 90s:  1793502.0\n"
     ]
    }
   ],
   "source": [
    "df_SFG = df_Teams[(df_Teams[\"name\"] == \"San Francisco Giants\") & (df_Teams[\"yearID\"] >= 1990) & \\\n",
    "                                                     (df_Teams[\"yearID\"] <= 1999)]\n",
    "print(\"Average Attendence for SFG in 90s: \",df_SFG.attendance.mean())"
   ]
  },
  {
   "cell_type": "markdown",
   "metadata": {},
   "source": [
    "# All plots combined!"
   ]
  },
  {
   "cell_type": "code",
   "execution_count": 115,
   "metadata": {
    "collapsed": false
   },
   "outputs": [
    {
     "data": {
      "image/png": "[encoded data removed]",
      "text/plain": [
       "<matplotlib.figure.Figure at 0x17ea4eab128>"
      ]
     },
     "metadata": {},
     "output_type": "display_data"
    }
   ],
   "source": [
    "myplot1 = Ron_Gant_df.cummulativeSalary.plot()\n",
    "myplot2 = Curtis_Granderson_df.cummulativeSalary.plot()\n",
    "myplot3 = Reggie_Sanders_df.cummulativeSalary.plot(title=\"Cummulative Salariers of R. Gant, C. Granderson, and R. Sanders\")\n",
    "\n",
    "plt.show()"
   ]
  },
  {
   "cell_type": "code",
   "execution_count": null,
   "metadata": {
    "collapsed": true
   },
   "outputs": [],
   "source": []
  }
 ],
 "metadata": {
  "kernelspec": {
   "display_name": "Python 3",
   "language": "python",
   "name": "python3"
  },
  "language_info": {
   "codemirror_mode": {
    "name": "ipython",
    "version": 3
   },
   "file_extension": ".py",
   "mimetype": "text/x-python",
   "name": "python",
   "nbconvert_exporter": "python",
   "pygments_lexer": "ipython3",
   "version": "3.5.1"
  }
 },
 "nbformat": 4,
 "nbformat_minor": 0
}
